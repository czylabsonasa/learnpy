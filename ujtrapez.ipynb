{
 "cells": [
  {
   "cell_type": "code",
   "execution_count": 3,
   "metadata": {},
   "outputs": [
    {
     "name": "stdout",
     "output_type": "stream",
     "text": [
      "az integrálandó függvény: x\n",
      "x\n",
      "a határok a,b és m: 1 2 3\n"
     ]
    }
   ],
   "source": [
    "userfv=input('az integrálandó függvény: ')\n",
    "print(userfv)\n",
    "fvstr=\"\"\"\n",
    "def func(x):\n",
    "    return({})\n",
    "\"\"\"\n",
    "exec(fvstr.format(userfv))\n",
    "#print([func(i) for i in range(0,10)])\n",
    "dat=input('a határok a,b és m: ')\n",
    "[a,b,m]=[int(s) for s in dat.split()]\n",
    "#print(a)\n",
    "#print(b)\n",
    "#print(m)\n"
   ]
  },
  {
   "cell_type": "code",
   "execution_count": 1,
   "metadata": {},
   "outputs": [
    {
     "data": {
      "image/png": "[encoded data removed]",
      "text/plain": [
       "<matplotlib.figure.Figure at 0x7f6304045240>"
      ]
     },
     "metadata": {},
     "output_type": "display_data"
    },
    {
     "ename": "NameError",
     "evalue": "name 'userfv' is not defined",
     "output_type": "error",
     "traceback": [
      "\u001b[0;31m---------------------------------------------------------------------------\u001b[0m",
      "\u001b[0;31mNameError\u001b[0m                                 Traceback (most recent call last)",
      "\u001b[0;32m<ipython-input-1-99b962c28ca1>\u001b[0m in \u001b[0;36m<module>\u001b[0;34m()\u001b[0m\n\u001b[1;32m      3\u001b[0m \u001b[0mplt\u001b[0m\u001b[0;34m.\u001b[0m\u001b[0mshow\u001b[0m\u001b[0;34m(\u001b[0m\u001b[0;34m)\u001b[0m\u001b[0;34m\u001b[0m\u001b[0m\n\u001b[1;32m      4\u001b[0m \u001b[0;34m\u001b[0m\u001b[0m\n\u001b[0;32m----> 5\u001b[0;31m \u001b[0mpre\u001b[0m\u001b[0;34m=\u001b[0m\u001b[0;34mr'1.feladat Integráljuk trapéz módszerrel az ${}$ függvényt a $[{},{}]$-n ${}$-részre osztva az intervallumot!'\u001b[0m\u001b[0;34m.\u001b[0m\u001b[0mformat\u001b[0m\u001b[0;34m(\u001b[0m\u001b[0muserfv\u001b[0m\u001b[0;34m,\u001b[0m\u001b[0ma\u001b[0m\u001b[0;34m,\u001b[0m\u001b[0mb\u001b[0m\u001b[0;34m,\u001b[0m\u001b[0mm\u001b[0m\u001b[0;34m)\u001b[0m\u001b[0;34m\u001b[0m\u001b[0m\n\u001b[0m\u001b[1;32m      6\u001b[0m \u001b[0;31m#print(pre)\u001b[0m\u001b[0;34m\u001b[0m\u001b[0;34m\u001b[0m\u001b[0m\n\u001b[1;32m      7\u001b[0m \u001b[0mplt\u001b[0m\u001b[0;34m.\u001b[0m\u001b[0mtext\u001b[0m\u001b[0;34m(\u001b[0m\u001b[0;36m1\u001b[0m\u001b[0;34m,\u001b[0m\u001b[0;36m2\u001b[0m\u001b[0;34m,\u001b[0m\u001b[0mpre\u001b[0m\u001b[0;34m)\u001b[0m\u001b[0;34m\u001b[0m\u001b[0m\n",
      "\u001b[0;31mNameError\u001b[0m: name 'userfv' is not defined"
     ]
    }
   ],
   "source": [
    "import IPython.display import,Math,Latex\n",
    "pre=r'1.feladat: Integráljuk trapéz módszerrel az ${}$ függvényt a $[{},{}]$-n ${}$-részre osztva az intervallumot!'.format(userfv,a,b,m)\n",
    "#print(pre)\n",
    "plt.text(1,2,pre)\n",
    "plt.show()\n"
   ]
  },
  {
   "cell_type": "code",
   "execution_count": 13,
   "metadata": {},
   "outputs": [],
   "source": [
    "\n",
    "import numpy as np\n",
    "a,b=0.0,1.5 #ezen akarunk integrálni\n",
    "m=1 # ennyi részre osztjuk az intervallumot\n",
    "def func(x): # ezt a fv-t akarjuk integrálni\n",
    "    return(x*np.sin(x))"
   ]
  },
  {
   "cell_type": "markdown",
   "metadata": {},
   "source": [
    "**Egyszerű** trapéz-formula:\n",
    "$$\n",
    "T(f,a,b)=\\frac{b-a}{2}\\left( f(a)+f(b)\\right)\n",
    "$$\n",
    "\n",
    "**Összetett** trapéz-formula:\n",
    "$$\n",
    "T(f,a,b,m)=\\frac{b-a}{2m}\\left( f(x_0)+2f(x_1)+\\ldots+2f(x_{m-1})+f(x_m) \\right)\n",
    "$$"
   ]
  },
  {
   "cell_type": "code",
   "execution_count": 14,
   "metadata": {},
   "outputs": [],
   "source": [
    "def trapez(f,a,b,m):\n",
    "    x=np.linspace(start=a,stop=b,num=m+1)\n",
    "    return (b-a)/(2*m)*(2*np.sum(f(x))-(f(a)+f(b)))"
   ]
  },
  {
   "cell_type": "code",
   "execution_count": 15,
   "metadata": {},
   "outputs": [
    {
     "name": "stdout",
     "output_type": "stream",
     "text": [
      "1.12218185993\n"
     ]
    }
   ],
   "source": [
    "print(trapez(func,a,b,m))"
   ]
  },
  {
   "cell_type": "markdown",
   "metadata": {},
   "source": [
    "Hogyan ellenőrizzük az eredményt? Mivel közelítő értéket számolunk ami függ $m$-től, ezért az ellenőrzésen az $m$ növelésével a \"pontos\" értékhez való közeledés teljesülését *is* értjük. A \"pontos\" érték is kiszámolható python-nal:\n",
    "a **scipy.integrate** modulban megvan az összes klasszikus (numerikus) integrálásos cucc: [https://docs.scipy.org/doc/scipy/reference/tutorial/integrate.html](https://docs.scipy.org/doc/scipy/reference/tutorial/integrate.html)"
   ]
  },
  {
   "cell_type": "code",
   "execution_count": 16,
   "metadata": {},
   "outputs": [
    {
     "name": "stdout",
     "output_type": "stream",
     "text": [
      "(0.8913891841025001, 9.896407960924282e-15)\n"
     ]
    }
   ],
   "source": [
    "import scipy.integrate as spq\n",
    "print(spq.quad(func,a,b))"
   ]
  },
  {
   "cell_type": "markdown",
   "metadata": {},
   "source": [
    "**Hiba, egyszerű** trapéz-formula:\n",
    "$$\n",
    "\\left| T(f,a,b)-\\int_a^b f \\right| \\le \\frac{M_{2}\\left(b-a\\right)^3}{12}\n",
    "$$\n",
    "**Hiba, összetett** trapéz-formula:\n",
    "$$\n",
    "\\left| T(f,a,b,m)-\\int_a^b f \\right| \\le \\frac{M_2(b-a)^3}{12m^2}\n",
    "$$\n",
    "\n"
   ]
  },
  {
   "cell_type": "markdown",
   "metadata": {},
   "source": [
    "Mekkora $m$-et válasszunk a fenti esetben ha $\\delta=\\frac{1}{10000}$-nél kisebb hibát akarunk? Fejezzük ki az egyenlőtlenségből $m$-et:\n",
    "$$\n",
    "\\sqrt{\\frac{M_2(b-a)^3}{12\\delta}} < m\n",
    "$$\n",
    "gyakran $M_2$-t nehéz pontosan kiszámolni: adjunk rá felső becslést! Először, számoljuk ki \n",
    "$f^{''}$-t:\n"
   ]
  },
  {
   "cell_type": "code",
   "execution_count": 17,
   "metadata": {},
   "outputs": [
    {
     "name": "stdout",
     "output_type": "stream",
     "text": [
      "-x*sin(x) + 2*cos(x)\n"
     ]
    }
   ],
   "source": [
    "import sympy as sp\n",
    "x=sp.Symbol('x')\n",
    "expr='x*sin(x)'\n",
    "print(sp.diff(expr,x,2))\n",
    "del(x)"
   ]
  },
  {
   "cell_type": "markdown",
   "metadata": {},
   "source": [
    "$$\n",
    "f^{'}(x)=sin(x)+xcos(x)\n",
    "$$\n",
    "$$\n",
    "f^{''}(x)=cos(x)+cos(x)-xsin(x)\n",
    "$$\n",
    "$$\n",
    "|f^{''}(x)|\\le2+1.5=3.5\n",
    "$$\n",
    "(ez utóbbi $\\triangle$ egyenlőtlenség miatt)\n"
   ]
  },
  {
   "cell_type": "code",
   "execution_count": 18,
   "metadata": {},
   "outputs": [
    {
     "data": {
      "text/plain": [
       "99.215674164922135"
      ]
     },
     "execution_count": 18,
     "metadata": {},
     "output_type": "execute_result"
    }
   ],
   "source": [
    "delta=1e-4\n",
    "M2=3.5\n",
    "np.sqrt(M2*(b-a)**3/(12*delta))"
   ]
  },
  {
   "cell_type": "markdown",
   "metadata": {},
   "source": [
    "tehát $m=100$ biztosan elég a kívánt pontossághoz. (nem szükséges ennyi általában)"
   ]
  },
  {
   "cell_type": "markdown",
   "metadata": {
    "collapsed": true
   },
   "source": [
    "Lásd például: [http://archive.ipython.org/tmp/IntroNumPy.pdf](http://archive.ipython.org/tmp/IntroNumPy.pdf)"
   ]
  },
  {
   "cell_type": "markdown",
   "metadata": {},
   "source": [
    "Végezetül egy ábra:"
   ]
  },
  {
   "cell_type": "code",
   "execution_count": 22,
   "metadata": {},
   "outputs": [
    {
     "data": {
      "image/png": "[encoded data removed]",
      "text/plain": [
       "<matplotlib.figure.Figure at 0x7f82e627a8d0>"
      ]
     },
     "metadata": {},
     "output_type": "display_data"
    }
   ],
   "source": [
    "#%matplotlib inline\n",
    "import matplotlib.pyplot as plt\n",
    "x=np.linspace(a-1,b+1,200);\n",
    "fx=func(x)\n",
    "m=2\n",
    "xint = np.linspace(a,b,m+1)\n",
    "fxint = func(xint)\n",
    "plt.plot(x, fx, lw=2)\n",
    "my=2\n",
    "plt.axis([a-1, b+1, 0, my])\n",
    "plt.fill_between(xint, 0, fxint, facecolor='gray', alpha=0.4)\n",
    "plt.text(0.5 * (a + b), my,r\"$filled\\approx\\int_a^b f(x)dx$\", horizontalalignment='center', fontsize=20);\n",
    "plt.show()"
   ]
  },
  {
   "cell_type": "code",
   "execution_count": null,
   "metadata": {},
   "outputs": [],
   "source": []
  }
 ],
 "metadata": {
  "kernelspec": {
   "display_name": "Python 3",
   "language": "python",
   "name": "python3"
  },
  "language_info": {
   "codemirror_mode": {
    "name": "ipython",
    "version": 3
   },
   "file_extension": ".py",
   "mimetype": "text/x-python",
   "name": "python",
   "nbconvert_exporter": "python",
   "pygments_lexer": "ipython3",
   "version": "3.5.3"
  }
 },
 "nbformat": 4,
 "nbformat_minor": 2
}

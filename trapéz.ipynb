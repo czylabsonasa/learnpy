{
 "cells": [
  {
   "cell_type": "markdown",
   "metadata": {},
   "source": [
    "Integráljuk trapéz módszerrel az $xsin(x)$ függvényt a $[0,1.5]$ intervallumon 5-részre osztással!"
   ]
  },
  {
   "cell_type": "code",
   "execution_count": 15,
   "metadata": {},
   "outputs": [],
   "source": [
    "import numpy as np\n",
    "a,b=0.0,1.5 #ezen akarunk integrálni\n",
    "m=5 # ennyi részre osztjuk az intervallumot\n",
    "def func(x): # ezt a fv-t akarjuk integrálni\n",
    "    return(x*np.sin(x))"
   ]
  },
  {
   "cell_type": "markdown",
   "metadata": {},
   "source": [
    "**Egyszerű** trapéz-formula:\n",
    "$$\n",
    "T(f,a,b)=\\frac{b-a}{2}\\left( f(a)+f(b)\\right)\n",
    "$$\n",
    "\n",
    "**Összetett** trapéz-formula:\n",
    "$$\n",
    "T(f,a,b,m)=\\frac{b-a}{2m}\\left( f(x_0)+2f(x_1)+\\ldots+2f(x_{m-1})+f(x_m) \\right)\n",
    "$$"
   ]
  },
  {
   "cell_type": "code",
   "execution_count": 16,
   "metadata": {},
   "outputs": [],
   "source": [
    "def trapéz(f,a,b,m):\n",
    "    beosztás=np.linspace(start=a,stop=b,num=m+1)\n",
    "    return (b-a)/(2*m)*(2*np.sum(f(beosztás))-(f(a)+f(b)))"
   ]
  },
  {
   "cell_type": "code",
   "execution_count": 17,
   "metadata": {},
   "outputs": [
    {
     "name": "stdout",
     "output_type": "stream",
     "text": [
      "0.899701172344\n"
     ]
    }
   ],
   "source": [
    "print(trapéz(func,a,b,m))"
   ]
  },
  {
   "cell_type": "markdown",
   "metadata": {},
   "source": [
    "Hogyan ellenőrizzük az eredményt? Mivel közelítő értéket számolunk ami függ $m$-től, ezért az ellenőrzésen az $m$ növelésével a \"pontos\" értékhez való közeledés teljesülését *is* értjük. A \"pontos\" érték is kiszámolható python-nal:\n",
    "a **scipy.integrate** modulban megvan az összes klasszikus integrálásos cucc: [https://docs.scipy.org/doc/scipy/reference/tutorial/integrate.html](https://docs.scipy.org/doc/scipy/reference/tutorial/integrate.html)"
   ]
  },
  {
   "cell_type": "code",
   "execution_count": 18,
   "metadata": {},
   "outputs": [
    {
     "name": "stdout",
     "output_type": "stream",
     "text": [
      "(0.8913891841025001, 9.896407960924282e-15)\n"
     ]
    }
   ],
   "source": [
    "import scipy.integrate as spq\n",
    "print(spq.quad(func,a,b))"
   ]
  },
  {
   "cell_type": "markdown",
   "metadata": {},
   "source": [
    "**Hiba, egyszerű** trapéz-formula:\n",
    "$$\n",
    "\\left| T(f,a,b)-\\int_a^b f \\right| \\le \\frac{M_{2}\\left(b-a\\right)^3}{12}\n",
    "$$\n",
    "**Hiba, összetett** trapéz-formula:\n",
    "$$\n",
    "\\left| T(f,a,b,m)-\\int_a^b f \\right| \\le \\frac{M_2(b-a)^3}{12m^2}\n",
    "$$\n",
    "\n"
   ]
  },
  {
   "cell_type": "markdown",
   "metadata": {},
   "source": [
    "Mekkora $m$-et válasszunk a fenti esetben ha $\\delta=\\frac{1}{10000}$-nél kisebb hibát akarunk? Fejezzük ki az egyenlőtlenségből $m$-et:\n",
    "$$\n",
    "\\sqrt{\\frac{M_2(b-a)^3}{12\\delta}} < m\n",
    "$$\n",
    "gyakran $M_2$-t nehéz pontosan kiszámolni: adjunk rá felső becslést!\n",
    "$$\n",
    "f^{'}(x)=sin(x)+xcos(x)\n",
    "$$\n",
    "$$\n",
    "f^{''}(x)=cos(x)+cos(x)-xsin(x)\n",
    "$$\n",
    "$$\n",
    "|f^{''}(x)|\\le2+1.5=3.5\n",
    "$$\n",
    "ekkor:\n"
   ]
  },
  {
   "cell_type": "code",
   "execution_count": 19,
   "metadata": {},
   "outputs": [
    {
     "data": {
      "text/plain": [
       "99.215674164922135"
      ]
     },
     "execution_count": 19,
     "metadata": {},
     "output_type": "execute_result"
    }
   ],
   "source": [
    "delta=1e-4\n",
    "M2=3.5\n",
    "np.sqrt(M2*(b-a)**3/(12*delta))"
   ]
  },
  {
   "cell_type": "markdown",
   "metadata": {},
   "source": [
    "tehát $m=100$ biztosan elég a kívánt pontossághoz. (nem szükséges ennyi általában)"
   ]
  },
  {
   "cell_type": "code",
   "execution_count": 26,
   "metadata": {},
   "outputs": [
    {
     "data": {
      "image/png": "[encoded data removed]",
      "text/plain": [
       "<matplotlib.figure.Figure at 0x7f121fcfa278>"
      ]
     },
     "metadata": {},
     "output_type": "display_data"
    }
   ],
   "source": [
    "import pylab\n",
    "from matplotlib.patches import Polygon\n",
    "\n",
    "ax = subplot(111)\n",
    "aa=a-1\n",
    "bb=b+1\n",
    "x = arange(aa,bb, 0.01)\n",
    "y = func(x)\n",
    "plot(x, y, linewidth=1)\n",
    "\n",
    "# make the shaded region\n",
    "ix = arange(a, b, 0.01)\n",
    "iy = func(ix)\n",
    "verts = [(a,0)] + list(zip(ix,iy)) + [(b,0)]\n",
    "poly = Polygon(verts, facecolor='0.8', edgecolor='k')\n",
    "ax.add_patch(poly)\n",
    "\n",
    "text(0.5 * (a + b), 30,\n",
    "     r\"$\\int_a^b f(x)\\mathrm{d}x$\", horizontalalignment='center',\n",
    "     fontsize=20)\n",
    "\n",
    "axis([aa,bb, -2, 2])\n",
    "figtext(0.9, 0.05, 'x')\n",
    "figtext(0.1, 0.9, 'y')\n",
    "ax.set_xticks((a,b))\n",
    "ax.set_xticklabels(('a','b'))\n",
    "ax.set_yticks([])\n",
    "show()"
   ]
  },
  {
   "cell_type": "code",
   "execution_count": null,
   "metadata": {},
   "outputs": [],
   "source": []
  }
 ],
 "metadata": {
  "kernelspec": {
   "display_name": "Python 3",
   "language": "python",
   "name": "python3"
  },
  "language_info": {
   "codemirror_mode": {
    "name": "ipython",
    "version": 3
   },
   "file_extension": ".py",
   "mimetype": "text/x-python",
   "name": "python",
   "nbconvert_exporter": "python",
   "pygments_lexer": "ipython3",
   "version": "3.5.3"
  }
 },
 "nbformat": 4,
 "nbformat_minor": 2
}

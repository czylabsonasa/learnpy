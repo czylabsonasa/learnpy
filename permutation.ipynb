{
 "cells": [
  {
   "cell_type": "code",
   "execution_count": 30,
   "metadata": {
    "collapsed": true
   },
   "outputs": [],
   "source": [
    "L=9\n",
    "ps=3"
   ]
  },
  {
   "cell_type": "code",
   "execution_count": 34,
   "metadata": {
    "collapsed": false
   },
   "outputs": [
    {
     "name": "stdout",
     "output_type": "stream",
     "text": [
      "1.1834385395050049\n"
     ]
    }
   ],
   "source": [
    "import array as ar\n",
    "import time\n",
    "\n",
    "def gener(level):\n",
    "    if level>=L:\n",
    "        #print('found:',used)\n",
    "        return\n",
    "    for i in range(0,L):\n",
    "        if -1==used[i]:\n",
    "            used[i]=level\n",
    "            gener(level+1)\n",
    "            used[i]=-1\n",
    "\n",
    "\n",
    "\n",
    "st=time.time()\n",
    "for i in range(1,ps+1):\n",
    "    used=ar.array('i',[-1]*L)\n",
    "    gener(0)\n",
    "print((time.time()-st)/ps)\n",
    "del(used)\n",
    "del(gener)"
   ]
  },
  {
   "cell_type": "code",
   "execution_count": 35,
   "metadata": {
    "collapsed": false
   },
   "outputs": [
    {
     "name": "stdout",
     "output_type": "stream",
     "text": [
      "1.0315361022949219\n"
     ]
    }
   ],
   "source": [
    "#sima list valtozat\n",
    "def gener(level):\n",
    "    if level>=L:\n",
    "        #print('found:',used)\n",
    "        return\n",
    "    for i in range(0,L):\n",
    "        if -1==used[i]:\n",
    "            used[i]=level\n",
    "            gener(level+1)\n",
    "            used[i]=-1\n",
    "\n",
    "\n",
    "ps=1\n",
    "st=time.time()\n",
    "for i in range(1,ps+1):\n",
    "    used=[-1]*L\n",
    "    gener(0)\n",
    "print((time.time()-st)/ps)\n",
    "\n"
   ]
  },
  {
   "cell_type": "code",
   "execution_count": null,
   "metadata": {
    "collapsed": true
   },
   "outputs": [],
   "source": []
  }
 ],
 "metadata": {
  "kernelspec": {
   "display_name": "Python 3",
   "language": "python",
   "name": "python3"
  },
  "language_info": {
   "codemirror_mode": {
    "name": "ipython",
    "version": 3
   },
   "file_extension": ".py",
   "mimetype": "text/x-python",
   "name": "python",
   "nbconvert_exporter": "python",
   "pygments_lexer": "ipython3",
   "version": "3.5.3"
  }
 },
 "nbformat": 4,
 "nbformat_minor": 2
}

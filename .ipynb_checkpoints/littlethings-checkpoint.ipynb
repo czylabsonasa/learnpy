{
 "cells": [
  {
   "cell_type": "code",
   "execution_count": 30,
   "metadata": {
    "collapsed": false
   },
   "outputs": [
    {
     "name": "stdout",
     "output_type": "stream",
     "text": [
      "a= [1, 'mid', 1]\n",
      "b= [1, 'mid', 1]\n",
      "[1, 'mid', 1]\n"
     ]
    }
   ],
   "source": [
    "# minden referencia\n",
    "a=[1]*3\n",
    "b=a\n",
    "b[1]='mid'\n",
    "print('a=',a)\n",
    "print('b=',b)\n",
    "a0=a[0]\n",
    "a0='elso'\n",
    "print(a)"
   ]
  },
  {
   "cell_type": "code",
   "execution_count": 29,
   "metadata": {
    "collapsed": false
   },
   "outputs": [
    {
     "name": "stdout",
     "output_type": "stream",
     "text": [
      "in a():  original\n",
      "---------\n",
      "after b():  original\n",
      "---------\n",
      "after c():  coriginal\n",
      "---------\n",
      "after d():  original\n",
      "---------\n",
      "after ee():  eeoriginal\n",
      "after e():  original\n",
      "---------\n"
     ]
    }
   ],
   "source": [
    "# láthatóság\n",
    "valt='original'\n",
    "def a():# csak olvasas, latja 'valt'-ot\n",
    "    if valt:\n",
    "        print('in a(): ',valt)\n",
    "    else:\n",
    "        print('undef')\n",
    "a()\n",
    "print('---------')        \n",
    "valt='original'\n",
    "def b(): # iras, lokalissa alakul\n",
    "    valt='boriginal'\n",
    "b()\n",
    "print('after b(): ',valt)\n",
    "print('---------')        \n",
    "valt='original'\n",
    "def c(): # iras, de jelzem hogy globalis ok\n",
    "    global valt\n",
    "    valt='coriginal'\n",
    "c()\n",
    "print('after c(): ',valt)\n",
    "print('---------')        \n",
    "\n",
    "valt='original'\n",
    "def d(): # iras, de jelzem hogy globalis ok\n",
    "#    nonlocal valt\n",
    "    valt='doriginal'\n",
    "#d()\n",
    "print('after d(): ',valt)\n",
    "print('---------')        \n",
    "\n",
    "valt='original'\n",
    "def e():\n",
    "    valt='eoriginal'#iras, lokalis lesz a valt\n",
    "    def ee(): # iras, nonlocal\n",
    "        nonlocal valt\n",
    "        valt='eeoriginal'\n",
    "    ee()\n",
    "    print('after ee(): ',valt)    \n",
    "e()\n",
    "print('after e(): ',valt)\n",
    "print('---------')        \n",
    "\n",
    "\n"
   ]
  },
  {
   "cell_type": "code",
   "execution_count": null,
   "metadata": {
    "collapsed": true
   },
   "outputs": [],
   "source": []
  }
 ],
 "metadata": {
  "kernelspec": {
   "display_name": "Python 3",
   "language": "python",
   "name": "python3"
  },
  "language_info": {
   "codemirror_mode": {
    "name": "ipython",
    "version": 3
   },
   "file_extension": ".py",
   "mimetype": "text/x-python",
   "name": "python",
   "nbconvert_exporter": "python",
   "pygments_lexer": "ipython3",
   "version": "3.5.3"
  }
 },
 "nbformat": 4,
 "nbformat_minor": 2
}

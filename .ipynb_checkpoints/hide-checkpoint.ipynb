{
 "cells": [
  {
   "cell_type": "code",
   "execution_count": 20,
   "metadata": {
    "collapsed": true
   },
   "outputs": [],
   "source": [
    "#x=[1,2,3,1,3,2]    \n",
    "x=[1,2,3]*100"
   ]
  },
  {
   "cell_type": "code",
   "execution_count": 21,
   "metadata": {
    "collapsed": false
   },
   "outputs": [
    {
     "name": "stdout",
     "output_type": "stream",
     "text": [
      "402\n",
      "0.0015783309936523438\n"
     ]
    }
   ],
   "source": [
    "# global version\n",
    "lx=len(x)\n",
    "mx=max(x)\n",
    "tmp=[-1]*(mx+1) #\n",
    "nxt=[-1]*lx\n",
    "#print(tmp[0:4])\n",
    "#print(*range(lx-1,-1,-1))\n",
    "for i in range(lx-1,-1,-1):\n",
    "#    print('i,xi=',i,x[i])\n",
    "    nxt[i]=tmp[x[i]]\n",
    "    tmp[x[i]]=i\n",
    "del(tmp)\n",
    "\n",
    "best=2*lx # ltar times (put on + take off), an upper bound\n",
    "stk=[]\n",
    "#print('best' in globals())\n",
    "def solve(i,cost):\n",
    "    global best,nxt,stk,lx,x\n",
    "    if cost+len(stk)>=best:\n",
    "        return\n",
    "    if i>=lx:\n",
    "        best=min(best,cost+len(stk))\n",
    "        return\n",
    "\n",
    "    xi=x[i]\n",
    "    if stk:\n",
    "        p=stk.pop()\n",
    "        if p==xi:\n",
    "            if nxt[p]>0:\n",
    "                stk.append(p)\n",
    "                solve(i+1,cost)\n",
    "            else:\n",
    "                solve(i+1,cost+1)\n",
    "        else:\n",
    "            stk.append(p)\n",
    "            if nxt[xi]<nxt[p]:\n",
    "                stk.append(xi)\n",
    "                solve(i+1,cost+1)\n",
    "            else:\n",
    "                solve(i+1,cost+2)\n",
    "\n",
    "    else: # stk is empty\n",
    "        if nxt[xi]>0:\n",
    "            stk.append(xi)\n",
    "            solve(i+1,cost+1)\n",
    "        else:\n",
    "            solve(i+1,cost+2)\n",
    "\n",
    "\n",
    "import time            \n",
    "tik=time.time()            \n",
    "solve(0,0) \n",
    "print(best)\n",
    "print(time.time()-tik)\n"
   ]
  },
  {
   "cell_type": "code",
   "execution_count": 22,
   "metadata": {
    "collapsed": false
   },
   "outputs": [
    {
     "name": "stdout",
     "output_type": "stream",
     "text": [
      "402\n",
      "0.001016855239868164\n"
     ]
    }
   ],
   "source": [
    "def ver2(x):\n",
    "    lx=len(x)\n",
    "    mx=max(x)\n",
    "    tmp=[-1]*(mx+1) #\n",
    "    nxt=[-1]*lx\n",
    "    for i in range(lx-1,-1,-1):\n",
    "        nxt[i]=tmp[x[i]]\n",
    "        tmp[x[i]]=i\n",
    "    del(tmp)\n",
    "\n",
    "    best=2*lx # ltar times (put on + take off), an upper bound\n",
    "    stk=[]\n",
    "    #print('best' in globals())\n",
    "    def solve(i,cost):\n",
    "        nonlocal best,nxt,stk,lx,x\n",
    "        if cost+len(stk)>=best:\n",
    "            return\n",
    "        if i>=lx:\n",
    "            best=min(best,cost+len(stk))\n",
    "            return\n",
    "\n",
    "        xi=x[i]\n",
    "        if stk:\n",
    "            p=stk.pop()\n",
    "            if p==xi:\n",
    "                if nxt[p]>0:\n",
    "                    stk.append(p)\n",
    "                    solve(i+1,cost)\n",
    "                else:\n",
    "                    solve(i+1,cost+1)\n",
    "            else:\n",
    "                stk.append(p)\n",
    "                if nxt[xi]<nxt[p]:\n",
    "                    stk.append(xi)\n",
    "                    solve(i+1,cost+1)\n",
    "                else:\n",
    "                    solve(i+1,cost+2)\n",
    "\n",
    "        else: # stk is empty\n",
    "            if nxt[xi]>0:\n",
    "                stk.append(xi)\n",
    "                solve(i+1,cost+1)\n",
    "            else:\n",
    "                solve(i+1,cost+2)\n",
    "\n",
    "\n",
    "    import time            \n",
    "    tik=time.time()            \n",
    "    solve(0,0) \n",
    "    print(best)\n",
    "    print(time.time()-tik)\n",
    "\n",
    "ver2(x)"
   ]
  }
 ],
 "metadata": {
  "kernelspec": {
   "display_name": "Python 3",
   "language": "python",
   "name": "python3"
  },
  "language_info": {
   "codemirror_mode": {
    "name": "ipython",
    "version": 3
   },
   "file_extension": ".py",
   "mimetype": "text/x-python",
   "name": "python",
   "nbconvert_exporter": "python",
   "pygments_lexer": "ipython3",
   "version": "3.5.3"
  }
 },
 "nbformat": 4,
 "nbformat_minor": 2
}
